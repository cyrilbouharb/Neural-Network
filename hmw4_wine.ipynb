{
 "cells": [
  {
   "cell_type": "code",
   "execution_count": 1,
   "metadata": {
    "colab": {
     "base_uri": "https://localhost:8080/"
    },
    "id": "c7SHHVZGA4u0",
    "outputId": "83dc5644-e612-4703-86d3-f647ed8c61cb"
   },
   "outputs": [
    {
     "name": "stdout",
     "output_type": "stream",
     "text": [
      "Archive:  hw4.zip\n",
      "  inflating: HW4.tex                 \n",
      "  inflating: backprop_example1.txt   \n",
      "  inflating: backprop_example2.txt   \n",
      "   creating: datasets/\n",
      "  inflating: datasets/hw3_cancer.csv  \n",
      "  inflating: datasets/hw3_house_votes_84.csv  \n",
      "  inflating: datasets/hw3_wine.csv   \n",
      "   creating: figures/\n",
      "  inflating: figures/.DS_Store       \n",
      "  inflating: figures/network_example.pdf  \n"
     ]
    }
   ],
   "source": [
    "!unzip 'hw4.zip'"
   ]
  },
  {
   "cell_type": "code",
   "execution_count": 2,
   "metadata": {
    "id": "wDR0xShQBWsc"
   },
   "outputs": [],
   "source": [
    "import numpy as np\n",
    "import matplotlib.pyplot as plt\n",
    "import math\n",
    "import pandas as pd\n",
    "from sklearn.preprocessing import StandardScaler, OneHotEncoder\n",
    "from sklearn.model_selection import train_test_split\n",
    "from sklearn.metrics import f1_score"
   ]
  },
  {
   "cell_type": "code",
   "execution_count": 3,
   "metadata": {
    "id": "rbBjw6Gdd5Vu"
   },
   "outputs": [],
   "source": [
    "class NN:\n",
    "    def __init__(self, sizes, initial_weights=None, eta=0.01, reg_lambda=0.01, use_softmax=False):\n",
    "        self.sizes = sizes\n",
    "        self.eta = eta\n",
    "        self.reg_lambda = reg_lambda\n",
    "        self.use_softmax = use_softmax\n",
    "        self.weights = self.init_weights() if initial_weights is None else initial_weights\n",
    "\n",
    "    def init_weights(self):\n",
    "        return [np.random.randn(y, x + 1) * 0.1 for x, y in zip(self.sizes[:-1], self.sizes[1:])]\n",
    "\n",
    "    def add_bias(self, X):\n",
    "        return np.insert(X, 0, 1, axis=1)\n",
    "\n",
    "    def softmax(self, z):\n",
    "        exp_z = np.exp(z - np.max(z, axis=1, keepdims=True))\n",
    "        return exp_z / np.sum(exp_z, axis=1, keepdims=True)\n",
    "\n",
    "    def forward(self, X):\n",
    "        act = [self.add_bias(X)]\n",
    "        ll = []\n",
    "        for index, weight in enumerate(self.weights[:-1]):\n",
    "            ll.append(act[-1] @ weight.T)\n",
    "            act.append(self.add_bias(1 / (1 + np.exp(-ll[-1]))))\n",
    "        ll.append(act[-1] @ self.weights[-1].T)\n",
    "        act.append(self.softmax(ll[-1]) if self.use_softmax else 1 / (1 + np.exp(-ll[-1])))\n",
    "        return act, ll\n",
    "\n",
    "    def cost(self, Y, act):\n",
    "        xq = Y.shape[0]\n",
    "        return -np.sum(Y * np.log(act[-1] + 1e-8)) / xq if self.use_softmax else -np.sum(Y * np.log(act[-1]) + (1 - Y) * np.log(1 - act[-1])) / xq\n",
    "\n",
    "    def backward(self, targets, activations, weights):\n",
    "        num_samples = targets.shape[0]\n",
    "        errors = [activations[-1] - targets]\n",
    "        gradients = []\n",
    "        for i in range(len(weights) - 1, 0, -1):\n",
    "            delta = (errors[0] @ weights[i][:, 1:]) * activations[i][:, 1:] * (1 - activations[i][:, 1:])\n",
    "            errors.insert(0, delta)\n",
    "        for i in range(len(weights)):\n",
    "            grad = errors[i].T @ activations[i] / num_samples\n",
    "            gradients.append(grad)\n",
    "        return errors, gradients\n",
    "\n",
    "    def update_weights(self, gradients):\n",
    "        for i in range(len(self.weights)):\n",
    "            regularization_grad = (self.reg_lambda * self.weights[i]) / self.weights[i].shape[0]\n",
    "            regularization_grad[:, 0] = 0\n",
    "            self.weights[i] -= self.eta * (gradients[i] + regularization_grad)\n",
    "\n",
    "    def predict(self, inputs):\n",
    "        final_activations, _ = self.forward(inputs)\n",
    "        return np.argmax(final_activations[-1], axis=1) + 1\n",
    "\n",
    "    def train(self, inputs, labels, iterations):\n",
    "        for _ in range(iterations):\n",
    "            final_activations, _ = self.forward(inputs)\n",
    "            _, weight_gradients = self.backward(labels, final_activations, self.weights)\n",
    "            self.update_weights(weight_gradients)\n",
    "        return self.weights\n"
   ]
  },
  {
   "cell_type": "markdown",
   "metadata": {
    "id": "tPID3ooBhUTS"
   },
   "source": [
    "#Wine Dataset"
   ]
  },
  {
   "cell_type": "markdown",
   "metadata": {
    "id": "LjRdJ5EmhZYd"
   },
   "source": [
    "The goal, here, is to predict the type of a wine based on its chemical contents.\n",
    "The dataset is composed of 178 instances. Each instance is described by 13 numerical attributes, and\n",
    "there are 3 classes.\n"
   ]
  },
  {
   "cell_type": "code",
   "execution_count": 4,
   "metadata": {
    "id": "FqSHRELmhY21"
   },
   "outputs": [],
   "source": [
    "wine_dataset = pd.read_csv('datasets/hw3_wine.csv')\n",
    "wine_dataset = pd.read_csv('datasets/hw3_wine.csv', delimiter='\\t')\n",
    "wine_dataset = wine_dataset.sample(frac=1)\n",
    "wine_dataset.columns = ['class'] + ['attribute' + str(i) for i in range(1, 14)]\n",
    "wine_features = wine_dataset.drop('class', axis=1).values\n",
    "wine_labels = wine_dataset['class'].values"
   ]
  },
  {
   "cell_type": "code",
   "execution_count": 5,
   "metadata": {
    "id": "96OIyZRIuejk"
   },
   "outputs": [],
   "source": [
    "def accuracy(Y, predictions):\n",
    "    true_labels = np.argmax(Y, axis=1) + 1\n",
    "    accuracy = np.mean(predictions == true_labels)\n",
    "    return accuracy * 100\n",
    "\n",
    "def f1_score(Y, predictions):\n",
    "    true_labels = np.argmax(Y, axis=1) + 1\n",
    "    classes = np.unique(true_labels)\n",
    "    f1_scores = []\n",
    "    for c in classes:\n",
    "        tp = np.sum((predictions == c) & (true_labels == c))\n",
    "        fp = np.sum((predictions == c) & (true_labels != c))\n",
    "        precision = tp / (tp + fp) if (tp + fp) > 0 else 0\n",
    "        fn = np.sum((predictions != c) & (true_labels == c))\n",
    "        recall = tp / (tp + fn) if (tp + fn) > 0 else 0\n",
    "        f1 = 2 * (precision * recall) / (precision + recall) if (precision + recall) > 0 else 0\n",
    "        f1_scores.append(f1)\n",
    "    avg_f1 = np.mean(f1_scores) * 100\n",
    "    return avg_f1"
   ]
  },
  {
   "cell_type": "code",
   "execution_count": 6,
   "metadata": {
    "id": "Ho2Nuo4B46mJ"
   },
   "outputs": [],
   "source": [
    "def stratified_cross_validation(features, labels, k=10):\n",
    "    label_indices = [np.where(labels == label)[0] for label in np.unique(labels)]\n",
    "    folds = []\n",
    "    pairs = []\n",
    "    shuffled_label_indices = [np.random.permutation(label_list) for label_list in label_indices]\n",
    "    label_splits = [np.array_split(label_list, k) for label_list in shuffled_label_indices]\n",
    "    for fold_parts in zip(*label_splits):\n",
    "        fold = np.concatenate(fold_parts)\n",
    "        folds.append(fold)\n",
    "    for fold_index in range(k):\n",
    "        test_fold = folds[fold_index]\n",
    "        train_fold = np.concatenate([folds[i] for i in range(k) if i != fold_index])\n",
    "        pairs.append((train_fold, test_fold))\n",
    "    return pairs\n"
   ]
  },
  {
   "cell_type": "code",
   "execution_count": 7,
   "metadata": {
    "colab": {
     "base_uri": "https://localhost:8080/"
    },
    "id": "NkR3midljoMW",
    "outputId": "b6c00530-90d1-4400-d625-a0d510d7938d"
   },
   "outputs": [
    {
     "name": "stderr",
     "output_type": "stream",
     "text": [
      "/usr/local/lib/python3.10/dist-packages/sklearn/preprocessing/_encoders.py:868: FutureWarning: `sparse` was renamed to `sparse_output` in version 1.2 and will be removed in 1.4. `sparse_output` is ignored unless you leave `sparse` to its default value.\n",
      "  warnings.warn(\n"
     ]
    },
    {
     "name": "stdout",
     "output_type": "stream",
     "text": [
      "Training Accuracy: 100.00%\n",
      "Testing Accuracy: 97.22%\n"
     ]
    }
   ],
   "source": [
    "wine_features_scaled = StandardScaler().fit_transform(wine_features)\n",
    "encoder = OneHotEncoder(sparse=False)\n",
    "wine_labels_encoded = encoder.fit_transform(wine_labels.reshape(-1, 1))\n",
    "\n",
    "X_train, X_test, y_train, y_test = train_test_split(wine_features_scaled, wine_labels_encoded, test_size=0.2, random_state=42)\n",
    "\n",
    "nn = NN([13, 8, 5, 3], eta=0.1, reg_lambda=0.05, use_softmax=True)\n",
    "trained_weights = nn.train(X_train, y_train, iterations=20000)\n",
    "train_predictions = nn.predict(X_train)\n",
    "train_accuracy = accuracy(y_train, train_predictions)\n",
    "print(f\"Training Accuracy: {train_accuracy:.2f}%\")\n",
    "test_predictions = nn.predict(X_test)\n",
    "test_accuracy = accuracy(y_test, test_predictions)\n",
    "print(f\"Testing Accuracy: {test_accuracy:.2f}%\")"
   ]
  },
  {
   "cell_type": "code",
   "execution_count": 8,
   "metadata": {
    "colab": {
     "base_uri": "https://localhost:8080/"
    },
    "id": "vyaupsb10rDO",
    "outputId": "7bab3de9-e0cf-4312-d8e0-4530adc4d53b"
   },
   "outputs": [
    {
     "name": "stdout",
     "output_type": "stream",
     "text": [
      "Structure: [13, 8, 3], Lambda: 0.01, Learning Rate: 0.05, Train Acc: 100.00, Train F1: 100.00, Test Acc: 98.26, Test F1: 98.18\n",
      "Structure: [13, 8, 3], Lambda: 0.01, Learning Rate: 0.1, Train Acc: 100.00, Train F1: 100.00, Test Acc: 98.26, Test F1: 98.22\n",
      "Structure: [13, 16, 3], Lambda: 0.05, Learning Rate: 0.05, Train Acc: 100.00, Train F1: 100.00, Test Acc: 98.86, Test F1: 98.74\n",
      "Structure: [13, 16, 3], Lambda: 0.05, Learning Rate: 0.1, Train Acc: 100.00, Train F1: 100.00, Test Acc: 98.26, Test F1: 98.18\n",
      "Structure: [13, 4, 4, 4, 3], Lambda: 0.1, Learning Rate: 0.05, Train Acc: 39.89, Train F1: 19.01, Test Acc: 39.93, Test F1: 19.02\n",
      "Structure: [13, 4, 4, 4, 3], Lambda: 0.1, Learning Rate: 0.1, Train Acc: 39.89, Train F1: 19.01, Test Acc: 39.93, Test F1: 19.02\n",
      "Structure: [13, 8, 8, 8, 3], Lambda: 0.05, Learning Rate: 0.05, Train Acc: 39.89, Train F1: 19.01, Test Acc: 39.93, Test F1: 19.02\n",
      "Structure: [13, 8, 8, 8, 3], Lambda: 0.05, Learning Rate: 0.1, Train Acc: 39.89, Train F1: 19.01, Test Acc: 39.93, Test F1: 19.02\n",
      "Structure: [13, 16, 16, 16, 3], Lambda: 0.01, Learning Rate: 0.05, Train Acc: 86.07, Train F1: 82.07, Test Acc: 82.74, Test F1: 78.91\n",
      "Structure: [13, 16, 16, 16, 3], Lambda: 0.01, Learning Rate: 0.1, Train Acc: 100.00, Train F1: 100.00, Test Acc: 97.22, Test F1: 97.17\n",
      "Structure: [13, 32, 32, 32, 32, 3], Lambda: 0.05, Learning Rate: 0.05, Train Acc: 39.89, Train F1: 19.01, Test Acc: 39.93, Test F1: 19.02\n",
      "Structure: [13, 32, 32, 32, 32, 3], Lambda: 0.05, Learning Rate: 0.5, Train Acc: 39.89, Train F1: 19.01, Test Acc: 39.93, Test F1: 19.02\n"
     ]
    }
   ],
   "source": [
    "structures = [\n",
    "    ([13, 8, 3], 0.01, 0.05),\n",
    "    ([13, 8, 3], 0.01, 0.1),\n",
    "    ([13, 16, 3], 0.05, 0.05),\n",
    "    ([13, 16, 3], 0.05, 0.1),\n",
    "    ([13, 4, 4, 4, 3], 0.1, 0.05),\n",
    "    ([13, 4, 4, 4, 3], 0.1, 0.1),\n",
    "    ([13, 8, 8, 8, 3], 0.05, 0.05),\n",
    "    ([13, 8, 8, 8, 3], 0.05, 0.1),\n",
    "    ([13, 16, 16, 16, 3], 0.01, 0.05),\n",
    "    ([13, 16, 16, 16, 3], 0.01, 0.1),\n",
    "    ([13, 32, 32, 32, 32, 3], 0.05, 0.05),\n",
    "    ([13, 32, 32, 32, 32, 3], 0.05, 0.5)\n",
    "]\n",
    "results = []\n",
    "label_classes = np.argmax(wine_labels_encoded, axis=1)\n",
    "for config, lambda_reg, learning_rate in structures:\n",
    "    train_accuracies = []\n",
    "    train_f1_scores = []\n",
    "    test_accuracies = []\n",
    "    test_f1_scores = []\n",
    "    splits = stratified_cross_validation(wine_features_scaled, label_classes, k=10)\n",
    "    for train_indices, test_indices in splits:\n",
    "        X_train, y_train = wine_features_scaled[train_indices], wine_labels_encoded[train_indices]\n",
    "        X_test, y_test = wine_features_scaled[test_indices], wine_labels_encoded[test_indices]\n",
    "        nn = NN(config, eta=learning_rate, reg_lambda=lambda_reg, use_softmax=True)\n",
    "        trained_weights = nn.train(X_train, y_train, iterations=10000)\n",
    "        train_predictions = nn.predict(X_train)\n",
    "        train_accuracy = accuracy(y_train, train_predictions)\n",
    "        train_f1 = f1_score(y_train, train_predictions)\n",
    "        test_predictions = nn.predict(X_test)\n",
    "        test_accuracy = accuracy(y_test, test_predictions)\n",
    "        test_f1 = f1_score(y_test, test_predictions)\n",
    "        train_accuracies.append(train_accuracy)\n",
    "        train_f1_scores.append(train_f1)\n",
    "        test_accuracies.append(test_accuracy)\n",
    "        test_f1_scores.append(test_f1)\n",
    "    results.append({\n",
    "        \"configuration\": config,\n",
    "        \"lambda\": lambda_reg,\n",
    "        \"learning_rate\": learning_rate,\n",
    "        \"train_accuracy\": np.mean(train_accuracies),\n",
    "        \"train_f1\": np.mean(train_f1_scores),\n",
    "        \"test_accuracy\": np.mean(test_accuracies),\n",
    "        \"test_f1\": np.mean(test_f1_scores)\n",
    "    })\n",
    "\n",
    "for result in results:\n",
    "    print(f\"Structure: {result['configuration']}, Lambda: {result['lambda']}, Learning Rate: {result['learning_rate']}, \"\n",
    "          f\"Train Acc: {result['train_accuracy']:.2f}, Train F1: {result['train_f1']:.2f}, Test Acc: {result['test_accuracy']:.2f}, \"\n",
    "          f\"Test F1: {result['test_f1']:.2f}\")\n"
   ]
  },
  {
   "cell_type": "code",
   "execution_count": 9,
   "metadata": {
    "colab": {
     "base_uri": "https://localhost:8080/"
    },
    "id": "3eadeNLEjFif",
    "outputId": "5c8d18a8-be07-4c2e-d5bc-e84a52119b88"
   },
   "outputs": [
    {
     "name": "stdout",
     "output_type": "stream",
     "text": [
      "              Structure  Lambda  Learning Rate  Train Accuracy  Train F1 Score  Test Accuracy  Test F1 Score\n",
      "             [13, 8, 3]    0.01           0.05      100.000000      100.000000      98.263889      98.182706\n",
      "    [13, 16, 16, 16, 3]    0.01           0.05       86.069828       82.068328      82.737573      78.913900\n",
      "             [13, 8, 3]    0.01           0.10      100.000000      100.000000      98.263889      98.221186\n",
      "    [13, 16, 16, 16, 3]    0.01           0.10      100.000000      100.000000      97.222222      97.173530\n",
      "            [13, 16, 3]    0.05           0.05      100.000000      100.000000      98.856209      98.742147\n",
      "       [13, 8, 8, 8, 3]    0.05           0.05       39.888037       19.009427      39.925396      19.015405\n",
      "[13, 32, 32, 32, 32, 3]    0.05           0.05       39.888037       19.009427      39.925396      19.015405\n",
      "            [13, 16, 3]    0.05           0.10      100.000000      100.000000      98.260449      98.179990\n",
      "       [13, 8, 8, 8, 3]    0.05           0.10       39.888037       19.009427      39.925396      19.015405\n",
      "[13, 32, 32, 32, 32, 3]    0.05           0.50       39.888037       19.009427      39.925396      19.015405\n",
      "       [13, 4, 4, 4, 3]    0.10           0.05       39.888037       19.009427      39.925396      19.015405\n",
      "       [13, 4, 4, 4, 3]    0.10           0.10       39.888037       19.009427      39.925396      19.015405\n"
     ]
    }
   ],
   "source": [
    "results_table = pd.DataFrame(results)\n",
    "results_table = results_table.rename(columns={\n",
    "    \"configuration\": \"Structure\",\n",
    "    \"lambda\": \"Lambda\",\n",
    "    \"learning_rate\": \"Learning Rate\",\n",
    "    \"train_accuracy\": \"Train Accuracy\",\n",
    "    \"train_f1\": \"Train F1 Score\",\n",
    "    \"test_accuracy\": \"Test Accuracy\",\n",
    "    \"test_f1\": \"Test F1 Score\"\n",
    "})\n",
    "results_table.sort_values(by=[\"Lambda\", \"Learning Rate\"], inplace=True)\n",
    "print(results_table.to_string(index=False))"
   ]
  },
  {
   "cell_type": "markdown",
   "metadata": {
    "id": "iURGkIBjoC1Z"
   },
   "source": [
    "### Vectorized form of backpropagation and forward."
   ]
  },
  {
   "cell_type": "markdown",
   "metadata": {
    "id": "SjuBrRuwj0DH"
   },
   "source": [
    "**Question 4** Discuss (on a high level) what contributed the most to improving performance: changing the\n",
    "regularization parameter; adding more layers; having deeper networks with many layers but few\n",
    "neurons per layer? designing networks with few layers but many neurons per layer? Discuss any\n",
    "patterns that you may have encountered. Also, discuss whether there is a point where constructing\n",
    "and training more “sophisticated”/complex networks—i.e., larger networks—no longer improves\n",
    "performance (or worsens performance)."
   ]
  },
  {
   "cell_type": "markdown",
   "metadata": {
    "id": "rnLqRLirj4PV"
   },
   "source": [
    "I used number of k=10000 iterations as stopping criterion.\n",
    "\n",
    "The simpler structures [13, 8, 3] and [13, 16, 3] consistently show high performance, both in training and testing phases. This suggests that for the dataset in question, simpler models may be sufficient to capture the underlying patterns without overfitting they reached perfect training accuracy and very high test accuracy (around 98%) and F1 scores (around 98%).\n",
    "\n",
    "Networks like [13, 8, 8, 8, 3] and [13, 4, 4, 4, 3] show significantly worse performance, with both training and test scores dropping drastically (around 39 5). This suggests that these network setups might not have enough neurons in each layer to properly capture complex patterns in the data. Additionally, they could be experiencing problems like vanishing gradients.\n",
    "\n",
    "Intermediate complexity [13, 16, 16, 16, 3] does show some recovery in performance compared to sparser deep networks, but still doesn't match the performance of simpler configurations. The network with a very high number of neurons per layer [13, 32, 32, 32, 32, 3] does not show improved performance, which may indicate that simply adding more neurons per layer without considering other aspects such as deeper architectural enhancements or advanced training techniques may not be beneficial.\n",
    "\n",
    "Regularization: I tested using two different lamda values 0.01 vs 0.05. Lower lambda values in simpler models [13, 8, 3] and [13, 16, 3] maintain high performance, suggesting that minimal regularization is sufficient given the model complexity and dataset size. Over regularization appears unnecessary and might even harm the performance of smaller or moderately-sized models for this dataset.\n",
    "\n",
    "Learning Rate: Changes in the learning rate do not show a consistent impact across different structures. While simpler models maintain high performance across different learning rates, complex models do not improve even with adjustments in learning rates. This might indicate that issues with complex models are not merely due to learning rate but possibly due to the model architecture not being suitable for the data complexity.\n",
    "\n",
    "The performance data suggests there is a point of diminishing returns when constructing more complex or \"sophisticated\" networks. For instance, adding more layers and neurons significantly worsens performance when it exceeds a certain threshold of complexity [13, 8, 8, 8, 3] and beyond considering the configurations we tested it on; it's potentially due to overfitting, difficulty in training, or not enough data to justify the increased model complexity."
   ]
  },
  {
   "cell_type": "markdown",
   "metadata": {
    "id": "jZBPhnTLj4oT"
   },
   "source": [
    "**Question 5** Based on the analyses above, discuss which neural network architecture you would select if you had\n",
    "to deploy such a classifier in real life. Explain your reasoning"
   ]
  },
  {
   "cell_type": "markdown",
   "metadata": {
    "id": "ZZep6tPAj7xO"
   },
   "source": [
    "Based on the performance data and the analysis of various neural network architectures tested, we're going to discuss what model we would select for real-life deployment\n",
    "\n",
    "The simpler models, specifically [13, 8, 3] and [13, 16, 3], consistently demonstrated high training and testing accuracy as well as F1 scores. Both configurations reached perfect training scores and very high test scores, indicating strong generalization without significant overfitting. They are also more efficient in terms of computational resources since they require fewer parameters to be learned, which translates into faster training times and lower memory and processing requirements. This efficiency is crucial for real-life applications, particularly if the model needs to be deployed on platforms with limited computational resources. Models with fewer layers and neurons tend to be more stable during training and less sensitive to variations in hyperparameters such as the learning rate and regularization strength. This stability is advantageous in real-life settings where data distributions can vary and robustness to such variations is desired. This is why I would choose [13, 8, 3] for real life deployment. This model structure strikes an optimal balance between complexity and performance. It achieved perfect training accuracy and extremely high test accuracy and F1 scores, suggesting that it has captured the patterns of the dataset without overfitting. The architecture is not overly complex, which is easier for training and deployment.\n",
    "A lambda value of 0.01 and a learning rate of 0.05 or 0.10 seem to be effective based on the performance metrics."
   ]
  },
  {
   "cell_type": "code",
   "execution_count": 19,
   "metadata": {
    "colab": {
     "base_uri": "https://localhost:8080/",
     "height": 564
    },
    "id": "Y0CWleZej3ah",
    "outputId": "3c15817c-8fb3-4f8c-e6dd-a669da6e23ea"
   },
   "outputs": [
    {
     "data": {
      "image/png": "[encoded data removed]",
      "text/plain": [
       "<Figure size 1000x600 with 1 Axes>"
      ]
     },
     "metadata": {},
     "output_type": "display_data"
    }
   ],
   "source": [
    "def learning_curve(X_train, y_train, X_test, y_test, nn, increments=5):\n",
    "    costs = []\n",
    "    for i in range(1, len(X_train), increments):\n",
    "        nn.train(X_train[:i], y_train[:i], iterations=1)\n",
    "        activations, _ = nn.forward(X_test)\n",
    "        cost = nn.cost(y_test, activations[-1])\n",
    "        costs.append(cost)\n",
    "    return costs\n",
    "\n",
    "\n",
    "np.random.seed(0)\n",
    "nn = NN([13, 8, 3], eta=0.1, reg_lambda=0.05, use_softmax=True)\n",
    "costs = learning_curve(X_train, y_train, X_test, y_test, nn)\n",
    "\n",
    "plt.figure(figsize=(10, 6))\n",
    "plt.plot(range(1, len(X_train), 5), costs, marker='o', linestyle='-', color='b')\n",
    "plt.title('Learning Curve for Neural Network [13, 8, 3] and α is set to 0.1')\n",
    "plt.xlabel('Number of Training Instances Used')\n",
    "plt.ylabel('Cost J on Test Set')\n",
    "plt.grid(True)\n",
    "plt.show()"
   ]
  },
  {
   "cell_type": "markdown",
   "metadata": {
    "id": "b9fLbjeswAiM"
   },
   "source": [
    "α is set to 0.1"
   ]
  },
  {
   "cell_type": "code",
   "execution_count": null,
   "metadata": {
    "id": "UwkLFWtXwBSL"
   },
   "outputs": [],
   "source": []
  }
 ],
 "metadata": {
  "colab": {
   "provenance": []
  },
  "kernelspec": {
   "display_name": "Python 3 (ipykernel)",
   "language": "python",
   "name": "python3"
  },
  "language_info": {
   "codemirror_mode": {
    "name": "ipython",
    "version": 3
   },
   "file_extension": ".py",
   "mimetype": "text/x-python",
   "name": "python",
   "nbconvert_exporter": "python",
   "pygments_lexer": "ipython3",
   "version": "3.7.16"
  }
 },
 "nbformat": 4,
 "nbformat_minor": 1
}
