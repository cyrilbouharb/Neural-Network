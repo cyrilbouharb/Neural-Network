{
 "cells": [
  {
   "cell_type": "code",
   "execution_count": 1,
   "metadata": {
    "colab": {
     "base_uri": "https://localhost:8080/"
    },
    "id": "dG054ySlio80",
    "outputId": "aad9dd25-7e92-47c2-a055-e1beb9935bcd"
   },
   "outputs": [
    {
     "name": "stdout",
     "output_type": "stream",
     "text": [
      "Archive:  hw4.zip\n",
      "  inflating: HW4.tex                 \n",
      "  inflating: backprop_example1.txt   \n",
      "  inflating: backprop_example2.txt   \n",
      "   creating: datasets/\n",
      "  inflating: datasets/hw3_cancer.csv  \n",
      "  inflating: datasets/hw3_house_votes_84.csv  \n",
      "  inflating: datasets/hw3_wine.csv   \n",
      "   creating: figures/\n",
      "  inflating: figures/.DS_Store       \n",
      "  inflating: figures/network_example.pdf  \n"
     ]
    }
   ],
   "source": [
    "!unzip 'hw4.zip'"
   ]
  },
  {
   "cell_type": "code",
   "execution_count": 2,
   "metadata": {
    "id": "huvhYphyR6tQ"
   },
   "outputs": [],
   "source": [
    "import numpy as np\n",
    "import matplotlib.pyplot as plt\n",
    "import math\n",
    "import pandas as pd\n",
    "from sklearn.preprocessing import StandardScaler, OneHotEncoder\n",
    "from sklearn.model_selection import train_test_split\n",
    "from sklearn.metrics import f1_score"
   ]
  },
  {
   "cell_type": "code",
   "execution_count": 3,
   "metadata": {
    "id": "7tSh0bNTR8Yr"
   },
   "outputs": [],
   "source": [
    "class NN:\n",
    "    def __init__(self, sizes, initial_weights=None, eta=0.01, reg_lambda=0.01, use_softmax=False):\n",
    "        self.sizes = sizes\n",
    "        self.eta = eta\n",
    "        self.reg_lambda = reg_lambda\n",
    "        self.use_softmax = use_softmax\n",
    "        self.weights = self.init_weights() if initial_weights is None else initial_weights\n",
    "\n",
    "    def init_weights(self):\n",
    "        return [np.random.randn(y, x + 1) * 0.1 for x, y in zip(self.sizes[:-1], self.sizes[1:])]\n",
    "\n",
    "    def add_bias(self, X):\n",
    "        return np.insert(X, 0, 1, axis=1)\n",
    "\n",
    "    def softmax(self, z):\n",
    "        exp_z = np.exp(z - np.max(z, axis=1, keepdims=True))\n",
    "        return exp_z / np.sum(exp_z, axis=1, keepdims=True)\n",
    "\n",
    "    def forward(self, X):\n",
    "        act = [self.add_bias(X)]\n",
    "        ll = []\n",
    "        for index, weight in enumerate(self.weights[:-1]):\n",
    "            ll.append(act[-1] @ weight.T)\n",
    "            act.append(self.add_bias(1 / (1 + np.exp(-ll[-1]))))\n",
    "        ll.append(act[-1] @ self.weights[-1].T)\n",
    "        act.append(self.softmax(ll[-1]) if self.use_softmax else 1 / (1 + np.exp(-ll[-1])))\n",
    "        return act, ll\n",
    "\n",
    "    def cost(self, Y, act):\n",
    "        xq = Y.shape[0]\n",
    "        return -np.sum(Y * np.log(act[-1] + 1e-8)) / xq if self.use_softmax else -np.sum(Y * np.log(act[-1]) + (1 - Y) * np.log(1 - act[-1])) / xq\n",
    "\n",
    "    def backward(self, targets, activations, weights):\n",
    "        num_samples = targets.shape[0]\n",
    "        errors = [activations[-1] - targets]\n",
    "        gradients = []\n",
    "        for i in range(len(weights) - 1, 0, -1):\n",
    "            delta = (errors[0] @ weights[i][:, 1:]) * activations[i][:, 1:] * (1 - activations[i][:, 1:])\n",
    "            errors.insert(0, delta)\n",
    "        for i in range(len(weights)):\n",
    "            grad = errors[i].T @ activations[i] / num_samples\n",
    "            gradients.append(grad)\n",
    "        return errors, gradients\n",
    "\n",
    "    def update_weights(self, gradients):\n",
    "        for i in range(len(self.weights)):\n",
    "            regularization_grad = (self.reg_lambda * self.weights[i]) / self.weights[i].shape[0]\n",
    "            regularization_grad[:, 0] = 0\n",
    "            self.weights[i] -= self.eta * (gradients[i] + regularization_grad)\n",
    "\n",
    "    def predict(self, inputs):\n",
    "        final_activations, _ = self.forward(inputs)\n",
    "        return np.argmax(final_activations[-1], axis=1) + 1\n",
    "\n",
    "    def train(self, inputs, labels, iterations):\n",
    "        for _ in range(iterations):\n",
    "            final_activations, _ = self.forward(inputs)\n",
    "            _, weight_gradients = self.backward(labels, final_activations, self.weights)\n",
    "            self.update_weights(weight_gradients)\n",
    "        return self.weights\n"
   ]
  },
  {
   "cell_type": "markdown",
   "metadata": {
    "id": "jsDI9wHkR_HZ"
   },
   "source": [
    "#The 1984 United States Congressional Voting Dataset"
   ]
  },
  {
   "cell_type": "markdown",
   "metadata": {
    "id": "gRkkNMRASDya"
   },
   "source": [
    "The goal, here, is to predict the\n",
    "party (Democrat or Republican) of each U.S. House of Representatives Congressperson. The dataset is\n",
    "composed of 435 instances. Each instance is described by 16 categorical attributes, and there are 2 classes."
   ]
  },
  {
   "cell_type": "code",
   "execution_count": 4,
   "metadata": {
    "colab": {
     "base_uri": "https://localhost:8080/"
    },
    "id": "P0F1A-mKR-nT",
    "outputId": "d6588656-5c42-4f6a-d4ee-2b053fcab17f"
   },
   "outputs": [
    {
     "name": "stderr",
     "output_type": "stream",
     "text": [
      "/usr/local/lib/python3.10/dist-packages/sklearn/preprocessing/_encoders.py:868: FutureWarning: `sparse` was renamed to `sparse_output` in version 1.2 and will be removed in 1.4. `sparse_output` is ignored unless you leave `sparse` to its default value.\n",
      "  warnings.warn(\n",
      "/usr/local/lib/python3.10/dist-packages/sklearn/preprocessing/_encoders.py:868: FutureWarning: `sparse` was renamed to `sparse_output` in version 1.2 and will be removed in 1.4. `sparse_output` is ignored unless you leave `sparse` to its default value.\n",
      "  warnings.warn(\n"
     ]
    }
   ],
   "source": [
    "voting_dataset = pd.read_csv('datasets/hw3_house_votes_84.csv')\n",
    "voting_dataset = voting_dataset.sample(frac=1, random_state=42)\n",
    "voting_features = voting_dataset.drop('class', axis=1)\n",
    "voting_labels = voting_dataset['class']\n",
    "feature_encoder = OneHotEncoder(sparse=False, handle_unknown='ignore')\n",
    "voting_features_encoded = feature_encoder.fit_transform(voting_features)\n",
    "label_encoder = OneHotEncoder(sparse=False)\n",
    "voting_labels_encoded = label_encoder.fit_transform(voting_labels.values.reshape(-1, 1))\n",
    "X_train, X_test, y_train, y_test = train_test_split(voting_features_encoded, voting_labels_encoded, test_size=0.2, random_state=42)"
   ]
  },
  {
   "cell_type": "code",
   "execution_count": 5,
   "metadata": {
    "id": "ijCpzOYhUeG9"
   },
   "outputs": [],
   "source": [
    "def accuracy(Y, predictions):\n",
    "    true_labels = np.argmax(Y, axis=1) + 1\n",
    "    accuracy = np.mean(predictions == true_labels)\n",
    "    return accuracy * 100\n",
    "\n",
    "def f1_score(Y, predictions):\n",
    "    true_labels = np.argmax(Y, axis=1) + 1\n",
    "    classes = np.unique(true_labels)\n",
    "    f1_scores = []\n",
    "    for c in classes:\n",
    "        tp = np.sum((predictions == c) & (true_labels == c))\n",
    "        fp = np.sum((predictions == c) & (true_labels != c))\n",
    "        precision = tp / (tp + fp) if (tp + fp) > 0 else 0\n",
    "        fn = np.sum((predictions != c) & (true_labels == c))\n",
    "        recall = tp / (tp + fn) if (tp + fn) > 0 else 0\n",
    "        f1 = 2 * (precision * recall) / (precision + recall) if (precision + recall) > 0 else 0\n",
    "        f1_scores.append(f1)\n",
    "    avg_f1 = np.mean(f1_scores) * 100\n",
    "    return avg_f1\n",
    "\n",
    "def stratified_cross_validation(features, labels, k=10):\n",
    "    label_indices = [np.where(labels == label)[0] for label in np.unique(labels)]\n",
    "    folds = []\n",
    "    pairs = []\n",
    "    shuffled_label_indices = [np.random.permutation(label_list) for label_list in label_indices]\n",
    "    label_splits = [np.array_split(label_list, k) for label_list in shuffled_label_indices]\n",
    "    for fold_parts in zip(*label_splits):\n",
    "        fold = np.concatenate(fold_parts)\n",
    "        folds.append(fold)\n",
    "    for fold_index in range(k):\n",
    "        test_fold = folds[fold_index]\n",
    "        train_fold = np.concatenate([folds[i] for i in range(k) if i != fold_index])\n",
    "        pairs.append((train_fold, test_fold))\n",
    "    return pairs"
   ]
  },
  {
   "cell_type": "code",
   "execution_count": 6,
   "metadata": {
    "colab": {
     "base_uri": "https://localhost:8080/"
    },
    "id": "P1HFlKCfVjGo",
    "outputId": "5848602a-2bd0-4624-a3ed-152949b6c02f"
   },
   "outputs": [
    {
     "data": {
      "text/plain": [
       "48"
      ]
     },
     "execution_count": 6,
     "metadata": {},
     "output_type": "execute_result"
    }
   ],
   "source": [
    "voting_features_encoded.shape[1]"
   ]
  },
  {
   "cell_type": "code",
   "execution_count": 8,
   "metadata": {
    "colab": {
     "base_uri": "https://localhost:8080/"
    },
    "id": "YKPA6ag-Vcrn",
    "outputId": "4a2daf44-05e1-4ced-c7e6-3ed47775655b"
   },
   "outputs": [
    {
     "name": "stdout",
     "output_type": "stream",
     "text": [
      "Training Accuracy: 98.28%\n",
      "Testing Accuracy: 94.25%\n"
     ]
    }
   ],
   "source": [
    "nn = NN([voting_features_encoded.shape[1], 4, 8, 2], use_softmax=True)\n",
    "trained_weights = nn.train(X_train, y_train, iterations=20000)\n",
    "train_predictions = nn.predict(X_train)\n",
    "train_accuracy = accuracy(y_train, train_predictions)\n",
    "print(f\"Training Accuracy: {train_accuracy:.2f}%\")\n",
    "test_predictions = nn.predict(X_test)\n",
    "test_accuracy = accuracy(y_test, test_predictions)\n",
    "print(f\"Testing Accuracy: {test_accuracy:.2f}%\")"
   ]
  },
  {
   "cell_type": "code",
   "execution_count": 9,
   "metadata": {
    "colab": {
     "base_uri": "https://localhost:8080/"
    },
    "id": "QtgNXig5Wat1",
    "outputId": "de710e33-922d-4742-9c3a-db6dc672f2e6"
   },
   "outputs": [
    {
     "name": "stdout",
     "output_type": "stream",
     "text": [
      "Structure: [48, 8, 2], Lambda: 0.01, Learning Rate: 0.05, Train Acc: 97.93, Train F1: 97.82, Test Acc: 96.54, Test F1: 96.36\n",
      "Structure: [48, 8, 2], Lambda: 0.01, Learning Rate: 0.1, Train Acc: 98.14, Train F1: 98.03, Test Acc: 95.88, Test F1: 95.63\n",
      "Structure: [48, 16, 2], Lambda: 0.05, Learning Rate: 0.05, Train Acc: 97.60, Train F1: 97.47, Test Acc: 95.87, Test F1: 95.67\n",
      "Structure: [48, 16, 2], Lambda: 0.05, Learning Rate: 0.1, Train Acc: 97.52, Train F1: 97.39, Test Acc: 96.06, Test F1: 95.86\n",
      "Structure: [48, 4, 4, 4, 2], Lambda: 0.1, Learning Rate: 0.05, Train Acc: 61.38, Train F1: 38.03, Test Acc: 61.38, Test F1: 38.03\n",
      "Structure: [48, 4, 4, 4, 2], Lambda: 0.1, Learning Rate: 0.1, Train Acc: 61.38, Train F1: 38.03, Test Acc: 61.38, Test F1: 38.03\n",
      "Structure: [48, 8, 8, 8, 2], Lambda: 0.05, Learning Rate: 0.05, Train Acc: 61.38, Train F1: 38.03, Test Acc: 61.38, Test F1: 38.03\n",
      "Structure: [48, 8, 8, 8, 2], Lambda: 0.05, Learning Rate: 0.1, Train Acc: 61.38, Train F1: 38.03, Test Acc: 61.38, Test F1: 38.03\n",
      "Structure: [48, 16, 16, 16, 2], Lambda: 0.01, Learning Rate: 0.05, Train Acc: 92.84, Train F1: 90.34, Test Acc: 91.78, Test F1: 89.26\n",
      "Structure: [48, 16, 16, 16, 2], Lambda: 0.01, Learning Rate: 0.1, Train Acc: 98.83, Train F1: 98.76, Test Acc: 95.85, Test F1: 95.63\n",
      "Structure: [48, 32, 32, 32, 32, 2], Lambda: 0.05, Learning Rate: 0.05, Train Acc: 61.38, Train F1: 38.03, Test Acc: 61.38, Test F1: 38.03\n",
      "Structure: [48, 32, 32, 32, 32, 2], Lambda: 0.05, Learning Rate: 0.5, Train Acc: 61.38, Train F1: 38.03, Test Acc: 61.38, Test F1: 38.03\n"
     ]
    }
   ],
   "source": [
    "structures = [\n",
    "    ([voting_features_encoded.shape[1], 8, 2], 0.01, 0.05),\n",
    "    ([voting_features_encoded.shape[1], 8, 2], 0.01, 0.1),\n",
    "    ([voting_features_encoded.shape[1], 16, 2], 0.05, 0.05),\n",
    "    ([voting_features_encoded.shape[1], 16, 2], 0.05, 0.1),\n",
    "    ([voting_features_encoded.shape[1], 4, 4, 4, 2], 0.1, 0.05),\n",
    "    ([voting_features_encoded.shape[1], 4, 4, 4, 2], 0.1, 0.1),\n",
    "    ([voting_features_encoded.shape[1], 8, 8, 8, 2], 0.05, 0.05),\n",
    "    ([voting_features_encoded.shape[1], 8, 8, 8, 2], 0.05, 0.1),\n",
    "    ([voting_features_encoded.shape[1], 16, 16, 16, 2], 0.01, 0.05),\n",
    "    ([voting_features_encoded.shape[1], 16, 16, 16, 2], 0.01, 0.1),\n",
    "    ([voting_features_encoded.shape[1], 32, 32, 32, 32, 2], 0.05, 0.05),\n",
    "    ([voting_features_encoded.shape[1], 32, 32, 32, 32, 2], 0.05, 0.5)\n",
    "]\n",
    "\n",
    "results = []\n",
    "\n",
    "label_classes = np.argmax(voting_labels_encoded, axis=1)\n",
    "\n",
    "for config, lambda_reg, learning_rate in structures:\n",
    "    train_accuracies = []\n",
    "    train_f1_scores = []\n",
    "    test_accuracies = []\n",
    "    test_f1_scores = []\n",
    "    splits = stratified_cross_validation(voting_features_encoded, label_classes, k=10)\n",
    "    for train_indices, test_indices in splits:\n",
    "        X_train, y_train = voting_features_encoded[train_indices], voting_labels_encoded[train_indices]\n",
    "        X_test, y_test = voting_features_encoded[test_indices], voting_labels_encoded[test_indices]\n",
    "        nn = NN(config, eta=learning_rate, reg_lambda=lambda_reg, use_softmax=True)\n",
    "        trained_weights = nn.train(X_train, y_train, iterations=10000)\n",
    "        train_predictions = nn.predict(X_train)\n",
    "        train_accuracy = accuracy(y_train, train_predictions)\n",
    "        train_f1 = f1_score(y_train, train_predictions)\n",
    "        test_predictions = nn.predict(X_test)\n",
    "        test_accuracy = accuracy(y_test, test_predictions)\n",
    "        test_f1 = f1_score(y_test, test_predictions)\n",
    "        train_accuracies.append(train_accuracy)\n",
    "        train_f1_scores.append(train_f1)\n",
    "        test_accuracies.append(test_accuracy)\n",
    "        test_f1_scores.append(test_f1)\n",
    "    results.append({\n",
    "        \"configuration\": config,\n",
    "        \"lambda\": lambda_reg,\n",
    "        \"learning_rate\": learning_rate,\n",
    "        \"train_accuracy\": np.mean(train_accuracies),\n",
    "        \"train_f1\": np.mean(train_f1_scores),\n",
    "        \"test_accuracy\": np.mean(test_accuracies),\n",
    "        \"test_f1\": np.mean(test_f1_scores)\n",
    "    })\n",
    "\n",
    "for result in results:\n",
    "    print(f\"Structure: {result['configuration']}, Lambda: {result['lambda']}, Learning Rate: {result['learning_rate']}, \"\n",
    "          f\"Train Acc: {result['train_accuracy']:.2f}, Train F1: {result['train_f1']:.2f}, Test Acc: {result['test_accuracy']:.2f}, \"\n",
    "          f\"Test F1: {result['test_f1']:.2f}\")\n"
   ]
  },
  {
   "cell_type": "code",
   "execution_count": 10,
   "metadata": {
    "colab": {
     "base_uri": "https://localhost:8080/"
    },
    "id": "bV9WYyVtgSkF",
    "outputId": "410a1cba-bf79-4c39-b868-673ab149a441"
   },
   "outputs": [
    {
     "name": "stdout",
     "output_type": "stream",
     "text": [
      "              Structure  Lambda  Learning Rate  Train Accuracy  Train F1 Score  Test Accuracy  Test F1 Score\n",
      "             [48, 8, 2]    0.01           0.05       97.930863       97.821630      96.542334      96.356611\n",
      "    [48, 16, 16, 16, 2]    0.01           0.05       92.844278       90.341181      91.780429      89.260237\n",
      "             [48, 8, 2]    0.01           0.10       98.135402       98.034964      95.876623      95.632800\n",
      "    [48, 16, 16, 16, 2]    0.01           0.10       98.825158       98.759156      95.854978      95.633675\n",
      "            [48, 16, 2]    0.05           0.05       97.598838       97.472029      95.866053      95.665518\n",
      "       [48, 8, 8, 8, 2]    0.05           0.05       61.379342       38.034196      61.382009      38.034893\n",
      "[48, 32, 32, 32, 32, 2]    0.05           0.05       61.379342       38.034196      61.382009      38.034893\n",
      "            [48, 16, 2]    0.05           0.10       97.522047       97.391888      96.055321      95.862488\n",
      "       [48, 8, 8, 8, 2]    0.05           0.10       61.379342       38.034196      61.382009      38.034893\n",
      "[48, 32, 32, 32, 32, 2]    0.05           0.50       61.379342       38.034196      61.382009      38.034893\n",
      "       [48, 4, 4, 4, 2]    0.10           0.05       61.379342       38.034196      61.382009      38.034893\n",
      "       [48, 4, 4, 4, 2]    0.10           0.10       61.379342       38.034196      61.382009      38.034893\n"
     ]
    }
   ],
   "source": [
    "results_table = pd.DataFrame(results)\n",
    "results_table = results_table.rename(columns={\n",
    "    \"configuration\": \"Structure\",\n",
    "    \"lambda\": \"Lambda\",\n",
    "    \"learning_rate\": \"Learning Rate\",\n",
    "    \"train_accuracy\": \"Train Accuracy\",\n",
    "    \"train_f1\": \"Train F1 Score\",\n",
    "    \"test_accuracy\": \"Test Accuracy\",\n",
    "    \"test_f1\": \"Test F1 Score\"\n",
    "})\n",
    "results_table.sort_values(by=[\"Lambda\", \"Learning Rate\"], inplace=True)\n",
    "print(results_table.to_string(index=False))"
   ]
  },
  {
   "cell_type": "markdown",
   "metadata": {
    "id": "v1oqtkcKgYqJ"
   },
   "source": [
    "### Vectorized form of backpropagation and forward."
   ]
  },
  {
   "cell_type": "markdown",
   "metadata": {
    "id": "iyYFf0g0gcR0"
   },
   "source": [
    "**Question 4** Discuss (on a high level) what contributed the most to improving performance: changing the\n",
    "regularization parameter; adding more layers; having deeper networks with many layers but few\n",
    "neurons per layer? designing networks with few layers but many neurons per layer? Discuss any\n",
    "patterns that you may have encountered. Also, discuss whether there is a point where constructing\n",
    "and training more “sophisticated”/complex networks—i.e., larger networks—no longer improves\n",
    "performance (or worsens performance)."
   ]
  },
  {
   "cell_type": "markdown",
   "metadata": {
    "id": "8vL2qtW5gh8n"
   },
   "source": [
    "I used number of k=10000 iterations as stopping criterion.\n",
    "\n",
    "The architectures with fewer layers [48, 8, 2] and [48, 16, 2] show higher accuracy and F1 scores compared to much deeper structures [48, 8, 8, 8, 2] or [48, 32, 32, 32, 32, 2]. This suggests that for the given dataset, adding more layers does not necessarily improve performance and might even degrade it.\n",
    "\n",
    "The architecture [48, 16, 16, 16, 2] shows a decent performance but does not surpass the simpler [48, 8, 2] or [48, 16, 2] structures. It implies that a moderate increase in depth and neurons can be beneficial but up to a certain point.\n",
    "\n",
    "Regularization: The lambda value used 0.01 and 0.05 does not show drastic differences in the simpler architectures but does affect the more complex ones, suggesting that simpler networks are less sensitive to changes in regularization. Higher regularization might prevent overfitting in deeper networks but also could hinder learning due to too much penalty on the weights.\n",
    "\n",
    "A higher learning rate 0.10 compared to 0.05 does not consistently improve or worsen the performance across different architectures. However, the simpler models seem to slightly benefit from the higher learning rate, indicating they are stable enough to handle faster learning without diverging.\n",
    "\n",
    "Networks with many layers but fewer neurons [48, 8, 8, 8, 2] and deeper variants consistently show much poorer performance compared to other architectures. This suggests that just adding layers without sufficient neurons per layer does not capture the complexity of the data well and might be leading to issues like vanishing gradients or insufficient model capacity.\n",
    "\n",
    "There seems to be a point where adding more complexity to the network (more layers, neurons etc..) no longer yields better performance and might even worsen it. This is evident from the consistently low performance of the deepest architectures tested, irrespective of other hyperparameters.The point of diminishing returns occurs moving from the [13, 16, 16, 16, 3] structure to the [13, 32, 32, 32, 32, 3] structure. While the former still holds reasonable performance, the latter shows a decline in effectiveness, indicating that it's counterproductive.\n",
    "\n",
    "Optimal Performance seems to be achieved with moderate complexity in the network architecture."
   ]
  },
  {
   "cell_type": "markdown",
   "metadata": {
    "id": "9MhPRGflghpK"
   },
   "source": [
    "**Question 5** Based on the analyses above, discuss which neural network architecture you would select if you had\n",
    "to deploy such a classifier in real life. Explain your reasoning"
   ]
  },
  {
   "cell_type": "markdown",
   "metadata": {
    "id": "SXEt705LgnU_"
   },
   "source": [
    "\n",
    "Based on the performance data and the analysis of various neural network architectures tested, we're going to discuss what model we would select for real-life deployment.\n",
    "I would choose [48, 8, 2] since this architecture consistently showed high accuracy and F1 scores, demonstrating its ability to effectively learn and generalize from the dataset without overfitting. It maintained a high level of performance across different learning rates and regularization parameters, suggesting robustness in various training scenarios. With fewer layers, this model is computationally less demanding than deeper networks. This simplicity will likely translate to faster training times and lower computational costs, which are crucial factors for real-world applications. Deeper networks, such as those with multiple hidden layers containing numerous neurons, tended to perform worse in this case, likely due to overfitting etc. The selected architecture is a safer choice for deployment.\n",
    "\n",
    "A lambda value of 0.01 and a learning rate of 0.05 or 0.10 seem to be effective based on the performance metrics."
   ]
  },
  {
   "cell_type": "code",
   "execution_count": 17,
   "metadata": {
    "colab": {
     "base_uri": "https://localhost:8080/",
     "height": 564
    },
    "id": "Mh5iDlbWgakH",
    "outputId": "d06965e5-aae9-4456-af77-46b54e55a245"
   },
   "outputs": [
    {
     "data": {
      "image/png": "[encoded data removed]",
      "text/plain": [
       "<Figure size 1000x600 with 1 Axes>"
      ]
     },
     "metadata": {},
     "output_type": "display_data"
    }
   ],
   "source": [
    "def learning_curve(X_train, y_train, X_test, y_test, nn, increments=5):\n",
    "    costs = []\n",
    "    for i in range(1, len(X_train), increments):\n",
    "        nn.train(X_train[:i], y_train[:i], iterations=1)\n",
    "        activations, _ = nn.forward(X_test)\n",
    "        cost = nn.cost(y_test, activations[-1])\n",
    "        costs.append(cost)\n",
    "    return costs\n",
    "\n",
    "np.random.seed(0)\n",
    "nn = NN([48, 8, 2], eta=0.05, reg_lambda=0.01, use_softmax=True)\n",
    "costs = learning_curve(X_train, y_train, X_test, y_test, nn)\n",
    "plt.figure(figsize=(10, 6))\n",
    "plt.plot(range(1, len(X_train), 5), costs, marker='o', linestyle='-', color='b')\n",
    "plt.title('Learning Curve for Neural Network [48, 8, 2] and α is set to 0.05')\n",
    "plt.xlabel('Number of Training Instances Used')\n",
    "plt.ylabel('Cost J on Test Set')\n",
    "plt.grid(True)\n",
    "plt.show()"
   ]
  },
  {
   "cell_type": "markdown",
   "metadata": {
    "id": "NBCLr93mv69s"
   },
   "source": [
    "α is set to 0.05"
   ]
  },
  {
   "cell_type": "code",
   "execution_count": null,
   "metadata": {
    "id": "wQgaWVn6v7Us"
   },
   "outputs": [],
   "source": []
  }
 ],
 "metadata": {
  "colab": {
   "provenance": []
  },
  "kernelspec": {
   "display_name": "Python 3 (ipykernel)",
   "language": "python",
   "name": "python3"
  },
  "language_info": {
   "codemirror_mode": {
    "name": "ipython",
    "version": 3
   },
   "file_extension": ".py",
   "mimetype": "text/x-python",
   "name": "python",
   "nbconvert_exporter": "python",
   "pygments_lexer": "ipython3",
   "version": "3.7.16"
  }
 },
 "nbformat": 4,
 "nbformat_minor": 1
}
