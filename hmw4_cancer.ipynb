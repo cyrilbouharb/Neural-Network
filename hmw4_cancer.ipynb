{
 "cells": [
  {
   "cell_type": "code",
   "execution_count": 1,
   "metadata": {
    "colab": {
     "base_uri": "https://localhost:8080/"
    },
    "id": "usXegNVyktpE",
    "outputId": "6f50aca8-bd0a-45ba-9fad-e2dc80978f2e"
   },
   "outputs": [
    {
     "name": "stdout",
     "output_type": "stream",
     "text": [
      "Archive:  hw4.zip\n",
      "  inflating: HW4.tex                 \n",
      "  inflating: backprop_example1.txt   \n",
      "  inflating: backprop_example2.txt   \n",
      "   creating: datasets/\n",
      "  inflating: datasets/hw3_cancer.csv  \n",
      "  inflating: datasets/hw3_house_votes_84.csv  \n",
      "  inflating: datasets/hw3_wine.csv   \n",
      "   creating: figures/\n",
      "  inflating: figures/.DS_Store       \n",
      "  inflating: figures/network_example.pdf  \n"
     ]
    }
   ],
   "source": [
    "!unzip 'hw4.zip'"
   ]
  },
  {
   "cell_type": "code",
   "execution_count": 2,
   "metadata": {
    "id": "aTjHd8_ak2yF"
   },
   "outputs": [],
   "source": [
    "import numpy as np\n",
    "import matplotlib.pyplot as plt\n",
    "import math\n",
    "import pandas as pd\n",
    "from sklearn.preprocessing import StandardScaler, OneHotEncoder\n",
    "from sklearn.model_selection import train_test_split\n",
    "from sklearn.metrics import f1_score"
   ]
  },
  {
   "cell_type": "code",
   "execution_count": 3,
   "metadata": {
    "id": "1yxAxDeuk4Ad"
   },
   "outputs": [],
   "source": [
    "class NN:\n",
    "    def __init__(self, sizes, initial_weights=None, eta=0.01, reg_lambda=0.01, use_softmax=False):\n",
    "        self.sizes = sizes\n",
    "        self.eta = eta\n",
    "        self.reg_lambda = reg_lambda\n",
    "        self.use_softmax = use_softmax\n",
    "        self.weights = self.init_weights() if initial_weights is None else initial_weights\n",
    "\n",
    "    def init_weights(self):\n",
    "        return [np.random.randn(y, x + 1) * 0.1 for x, y in zip(self.sizes[:-1], self.sizes[1:])]\n",
    "\n",
    "    def add_bias(self, X):\n",
    "        return np.insert(X, 0, 1, axis=1)\n",
    "\n",
    "    def softmax(self, z):\n",
    "        exp_z = np.exp(z - np.max(z, axis=1, keepdims=True))\n",
    "        return exp_z / np.sum(exp_z, axis=1, keepdims=True)\n",
    "\n",
    "    def forward(self, X):\n",
    "        act = [self.add_bias(X)]\n",
    "        ll = []\n",
    "        for index, weight in enumerate(self.weights[:-1]):\n",
    "            ll.append(act[-1] @ weight.T)\n",
    "            act.append(self.add_bias(1 / (1 + np.exp(-ll[-1]))))\n",
    "        ll.append(act[-1] @ self.weights[-1].T)\n",
    "        act.append(self.softmax(ll[-1]) if self.use_softmax else 1 / (1 + np.exp(-ll[-1])))\n",
    "        return act, ll\n",
    "\n",
    "    def cost(self, Y, act):\n",
    "        xq = Y.shape[0]\n",
    "        return -np.sum(Y * np.log(act[-1] + 1e-8)) / xq if self.use_softmax else -np.sum(Y * np.log(act[-1]) + (1 - Y) * np.log(1 - act[-1])) / xq\n",
    "\n",
    "    def backward(self, targets, activations, weights):\n",
    "        num_samples = targets.shape[0]\n",
    "        errors = [activations[-1] - targets]\n",
    "        gradients = []\n",
    "        for i in range(len(weights) - 1, 0, -1):\n",
    "            delta = (errors[0] @ weights[i][:, 1:]) * activations[i][:, 1:] * (1 - activations[i][:, 1:])\n",
    "            errors.insert(0, delta)\n",
    "        for i in range(len(weights)):\n",
    "            grad = errors[i].T @ activations[i] / num_samples\n",
    "            gradients.append(grad)\n",
    "        return errors, gradients\n",
    "\n",
    "    def update_weights(self, gradients):\n",
    "        for i in range(len(self.weights)):\n",
    "            regularization_grad = (self.reg_lambda * self.weights[i]) / self.weights[i].shape[0]\n",
    "            regularization_grad[:, 0] = 0\n",
    "            self.weights[i] -= self.eta * (gradients[i] + regularization_grad)\n",
    "\n",
    "    def predict(self, inputs):\n",
    "        final_activations, _ = self.forward(inputs)\n",
    "        return np.argmax(final_activations[-1], axis=1) + 1\n",
    "\n",
    "    def train(self, inputs, labels, iterations):\n",
    "        for _ in range(iterations):\n",
    "            final_activations, _ = self.forward(inputs)\n",
    "            _, weight_gradients = self.backward(labels, final_activations, self.weights)\n",
    "            self.update_weights(weight_gradients)\n",
    "        return self.weights\n"
   ]
  },
  {
   "cell_type": "markdown",
   "metadata": {
    "id": "sMFSkngflCQe"
   },
   "source": [
    "# Breast Cancer Dataset"
   ]
  },
  {
   "cell_type": "markdown",
   "metadata": {
    "id": "YH44WwxolEAc"
   },
   "source": [
    "The goal, here,\n",
    "is to classify whether tissue removed via a biopsy indicates whether a person may or may not have breast\n",
    "cancer. There are 699 instances in this dataset. Each instance is described by 9 numerical attributes, and\n",
    "there are 2 classes"
   ]
  },
  {
   "cell_type": "code",
   "execution_count": 5,
   "metadata": {
    "colab": {
     "base_uri": "https://localhost:8080/"
    },
    "id": "TpP8DIU3k-d7",
    "outputId": "a815ca0e-89b8-4f38-a6d2-0f8556761161"
   },
   "outputs": [
    {
     "name": "stderr",
     "output_type": "stream",
     "text": [
      "/usr/local/lib/python3.10/dist-packages/sklearn/preprocessing/_encoders.py:868: FutureWarning: `sparse` was renamed to `sparse_output` in version 1.2 and will be removed in 1.4. `sparse_output` is ignored unless you leave `sparse` to its default value.\n",
      "  warnings.warn(\n"
     ]
    }
   ],
   "source": [
    "cancer_dataset = pd.read_csv('datasets/hw3_cancer.csv', delimiter='\\t')\n",
    "cancer_dataset = cancer_dataset.sample(frac=1, random_state=42)\n",
    "cancer_features = cancer_dataset.drop('Class', axis=1)\n",
    "cancer_labels = cancer_dataset['Class']\n",
    "scaler = StandardScaler()\n",
    "cancer_features_scaled = scaler.fit_transform(cancer_features)\n",
    "encoder = OneHotEncoder(sparse=False)\n",
    "cancer_labels_encoded = encoder.fit_transform(cancer_labels.to_numpy().reshape(-1, 1))\n",
    "X_train, X_test, y_train, y_test = train_test_split(cancer_features_scaled, cancer_labels_encoded, test_size=0.2, random_state=42)"
   ]
  },
  {
   "cell_type": "code",
   "execution_count": 6,
   "metadata": {
    "id": "yUr7f4MXmWoA"
   },
   "outputs": [],
   "source": [
    "def accuracy(Y, predictions):\n",
    "    true_labels = np.argmax(Y, axis=1) + 1\n",
    "    accuracy = np.mean(predictions == true_labels)\n",
    "    return accuracy * 100\n",
    "\n",
    "def f1_score(Y, predictions):\n",
    "    true_labels = np.argmax(Y, axis=1) + 1\n",
    "    classes = np.unique(true_labels)\n",
    "    f1_scores = []\n",
    "    for c in classes:\n",
    "        tp = np.sum((predictions == c) & (true_labels == c))\n",
    "        fp = np.sum((predictions == c) & (true_labels != c))\n",
    "        precision = tp / (tp + fp) if (tp + fp) > 0 else 0\n",
    "        fn = np.sum((predictions != c) & (true_labels == c))\n",
    "        recall = tp / (tp + fn) if (tp + fn) > 0 else 0\n",
    "        f1 = 2 * (precision * recall) / (precision + recall) if (precision + recall) > 0 else 0\n",
    "        f1_scores.append(f1)\n",
    "    avg_f1 = np.mean(f1_scores) * 100\n",
    "    return avg_f1\n",
    "\n",
    "def stratified_cross_validation(features, labels, k=10):\n",
    "    label_indices = [np.where(labels == label)[0] for label in np.unique(labels)]\n",
    "    folds = []\n",
    "    pairs = []\n",
    "    shuffled_label_indices = [np.random.permutation(label_list) for label_list in label_indices]\n",
    "    label_splits = [np.array_split(label_list, k) for label_list in shuffled_label_indices]\n",
    "    for fold_parts in zip(*label_splits):\n",
    "        fold = np.concatenate(fold_parts)\n",
    "        folds.append(fold)\n",
    "    for fold_index in range(k):\n",
    "        test_fold = folds[fold_index]\n",
    "        train_fold = np.concatenate([folds[i] for i in range(k) if i != fold_index])\n",
    "        pairs.append((train_fold, test_fold))\n",
    "    return pairs"
   ]
  },
  {
   "cell_type": "code",
   "execution_count": 7,
   "metadata": {
    "colab": {
     "base_uri": "https://localhost:8080/"
    },
    "id": "rJuxTeNLmddh",
    "outputId": "5579486a-4b68-4e05-fac7-c5f3d0f8ced0"
   },
   "outputs": [
    {
     "name": "stdout",
     "output_type": "stream",
     "text": [
      "Training Accuracy: 97.14%\n",
      "Testing Accuracy: 95.71%\n"
     ]
    }
   ],
   "source": [
    "nn = NN([9, 4, 8, 2], use_softmax=True)\n",
    "trained_weights = nn.train(X_train, y_train, iterations=20000)\n",
    "train_predictions = nn.predict(X_train)\n",
    "train_accuracy = accuracy(y_train, train_predictions)\n",
    "print(f\"Training Accuracy: {train_accuracy:.2f}%\")\n",
    "test_predictions = nn.predict(X_test)\n",
    "test_accuracy = accuracy(y_test, test_predictions)\n",
    "print(f\"Testing Accuracy: {test_accuracy:.2f}%\")"
   ]
  },
  {
   "cell_type": "code",
   "execution_count": 8,
   "metadata": {
    "colab": {
     "base_uri": "https://localhost:8080/"
    },
    "id": "15sRNoG2msRV",
    "outputId": "b9cccc73-116d-4a3b-eb2c-03cbbb500ae1"
   },
   "outputs": [
    {
     "name": "stdout",
     "output_type": "stream",
     "text": [
      "Structure: [9, 8, 2], Lambda: 0.01, Learning Rate: 0.05, Train Acc: 96.68, Train F1: 96.35, Test Acc: 96.14, Test F1: 95.77\n",
      "Structure: [9, 8, 2], Lambda: 0.01, Learning Rate: 0.1, Train Acc: 96.76, Train F1: 96.43, Test Acc: 96.57, Test F1: 96.23\n",
      "Structure: [9, 16, 2], Lambda: 0.05, Learning Rate: 0.05, Train Acc: 96.22, Train F1: 95.82, Test Acc: 95.86, Test F1: 95.41\n",
      "Structure: [9, 16, 2], Lambda: 0.05, Learning Rate: 0.1, Train Acc: 96.22, Train F1: 95.82, Test Acc: 95.71, Test F1: 95.27\n",
      "Structure: [9, 4, 4, 4, 2], Lambda: 0.1, Learning Rate: 0.05, Train Acc: 65.52, Train F1: 39.59, Test Acc: 65.52, Test F1: 39.58\n",
      "Structure: [9, 4, 4, 4, 2], Lambda: 0.1, Learning Rate: 0.1, Train Acc: 65.52, Train F1: 39.59, Test Acc: 65.52, Test F1: 39.58\n",
      "Structure: [9, 8, 8, 8, 2], Lambda: 0.05, Learning Rate: 0.05, Train Acc: 65.52, Train F1: 39.59, Test Acc: 65.52, Test F1: 39.58\n",
      "Structure: [9, 8, 8, 8, 2], Lambda: 0.05, Learning Rate: 0.1, Train Acc: 65.52, Train F1: 39.59, Test Acc: 65.52, Test F1: 39.58\n",
      "Structure: [9, 16, 16, 16, 2], Lambda: 0.01, Learning Rate: 0.05, Train Acc: 96.69, Train F1: 96.37, Test Acc: 96.44, Test F1: 96.10\n",
      "Structure: [9, 16, 16, 16, 2], Lambda: 0.01, Learning Rate: 0.1, Train Acc: 96.87, Train F1: 96.57, Test Acc: 96.58, Test F1: 96.25\n",
      "Structure: [9, 32, 32, 32, 32, 2], Lambda: 0.05, Learning Rate: 0.05, Train Acc: 65.52, Train F1: 39.59, Test Acc: 65.52, Test F1: 39.58\n",
      "Structure: [9, 32, 32, 32, 32, 2], Lambda: 0.05, Learning Rate: 0.5, Train Acc: 65.52, Train F1: 39.59, Test Acc: 65.52, Test F1: 39.58\n"
     ]
    }
   ],
   "source": [
    "structures = [\n",
    "    ([9, 8, 2], 0.01, 0.05),\n",
    "    ([9, 8, 2], 0.01, 0.1),\n",
    "    ([9, 16, 2], 0.05, 0.05),\n",
    "    ([9, 16, 2], 0.05, 0.1),\n",
    "    ([9, 4, 4, 4, 2], 0.1, 0.05),\n",
    "    ([9, 4, 4, 4, 2], 0.1, 0.1),\n",
    "    ([9, 8, 8, 8, 2], 0.05, 0.05),\n",
    "    ([9, 8, 8, 8, 2], 0.05, 0.1),\n",
    "    ([9, 16, 16, 16, 2], 0.01, 0.05),\n",
    "    ([9, 16, 16, 16, 2], 0.01, 0.1),\n",
    "    ([9, 32, 32, 32, 32, 2], 0.05, 0.05),\n",
    "    ([9, 32, 32, 32, 32, 2], 0.05, 0.5)\n",
    "]\n",
    "results = []\n",
    "label_classes = np.argmax(cancer_labels_encoded, axis=1)\n",
    "for config, lambda_reg, learning_rate in structures:\n",
    "    train_accuracies = []\n",
    "    train_f1_scores = []\n",
    "    test_accuracies = []\n",
    "    test_f1_scores = []\n",
    "    splits = stratified_cross_validation(cancer_features_scaled, label_classes, k=10)\n",
    "    for train_indices, test_indices in splits:\n",
    "        X_train, y_train = cancer_features_scaled[train_indices], cancer_labels_encoded[train_indices]\n",
    "        X_test, y_test = cancer_features_scaled[test_indices], cancer_labels_encoded[test_indices]\n",
    "        nn = NN(config, eta=learning_rate, reg_lambda=lambda_reg, use_softmax=True)\n",
    "        trained_weights = nn.train(X_train, y_train, iterations=10000)\n",
    "        train_predictions = nn.predict(X_train)\n",
    "        train_accuracy = accuracy(y_train, train_predictions)\n",
    "        train_f1 = f1_score(y_train, train_predictions)\n",
    "        test_predictions = nn.predict(X_test)\n",
    "        test_accuracy = accuracy(y_test, test_predictions)\n",
    "        test_f1 = f1_score(y_test, test_predictions)\n",
    "        train_accuracies.append(train_accuracy)\n",
    "        train_f1_scores.append(train_f1)\n",
    "        test_accuracies.append(test_accuracy)\n",
    "        test_f1_scores.append(test_f1)\n",
    "    results.append({\n",
    "        \"configuration\": config,\n",
    "        \"lambda\": lambda_reg,\n",
    "        \"learning_rate\": learning_rate,\n",
    "        \"train_accuracy\": np.mean(train_accuracies),\n",
    "        \"train_f1\": np.mean(train_f1_scores),\n",
    "        \"test_accuracy\": np.mean(test_accuracies),\n",
    "        \"test_f1\": np.mean(test_f1_scores)\n",
    "    })\n",
    "\n",
    "for result in results:\n",
    "    print(f\"Structure: {result['configuration']}, Lambda: {result['lambda']}, Learning Rate: {result['learning_rate']}, \"\n",
    "          f\"Train Acc: {result['train_accuracy']:.2f}, Train F1: {result['train_f1']:.2f}, Test Acc: {result['test_accuracy']:.2f}, \"\n",
    "          f\"Test F1: {result['test_f1']:.2f}\")\n"
   ]
  },
  {
   "cell_type": "code",
   "execution_count": 9,
   "metadata": {
    "colab": {
     "base_uri": "https://localhost:8080/"
    },
    "id": "U5x1wp07t4aW",
    "outputId": "289eb5c1-8df6-406c-e77b-0b1aa9c3068a"
   },
   "outputs": [
    {
     "name": "stdout",
     "output_type": "stream",
     "text": [
      "             Structure  Lambda  Learning Rate  Train Accuracy  Train F1 Score  Test Accuracy  Test F1 Score\n",
      "             [9, 8, 2]    0.01           0.05       96.677895       96.345827      96.142682      95.769218\n",
      "    [9, 16, 16, 16, 2]    0.01           0.05       96.693818       96.370927      96.436561      96.104254\n",
      "             [9, 8, 2]    0.01           0.10       96.757361       96.434512      96.569183      96.230481\n",
      "    [9, 16, 16, 16, 2]    0.01           0.10       96.868674       96.566712      96.577348      96.250449\n",
      "            [9, 16, 2]    0.05           0.05       96.216921       95.823350      95.856910      95.411836\n",
      "       [9, 8, 8, 8, 2]    0.05           0.05       65.522177       39.585132      65.522352      39.584981\n",
      "[9, 32, 32, 32, 32, 2]    0.05           0.05       65.522177       39.585132      65.522352      39.584981\n",
      "            [9, 16, 2]    0.05           0.10       96.216845       95.823478      95.713936      95.272831\n",
      "       [9, 8, 8, 8, 2]    0.05           0.10       65.522177       39.585132      65.522352      39.584981\n",
      "[9, 32, 32, 32, 32, 2]    0.05           0.50       65.522177       39.585132      65.522352      39.584981\n",
      "       [9, 4, 4, 4, 2]    0.10           0.05       65.522177       39.585132      65.522352      39.584981\n",
      "       [9, 4, 4, 4, 2]    0.10           0.10       65.522177       39.585132      65.522352      39.584981\n"
     ]
    }
   ],
   "source": [
    "results_table = pd.DataFrame(results)\n",
    "results_table = results_table.rename(columns={\n",
    "    \"configuration\": \"Structure\",\n",
    "    \"lambda\": \"Lambda\",\n",
    "    \"learning_rate\": \"Learning Rate\",\n",
    "    \"train_accuracy\": \"Train Accuracy\",\n",
    "    \"train_f1\": \"Train F1 Score\",\n",
    "    \"test_accuracy\": \"Test Accuracy\",\n",
    "    \"test_f1\": \"Test F1 Score\"\n",
    "})\n",
    "results_table.sort_values(by=[\"Lambda\", \"Learning Rate\"], inplace=True)\n",
    "print(results_table.to_string(index=False))"
   ]
  },
  {
   "cell_type": "markdown",
   "metadata": {
    "id": "ZtgInrdGt_3O"
   },
   "source": [
    "### Vectorized form of backpropagation and forward."
   ]
  },
  {
   "cell_type": "markdown",
   "metadata": {
    "id": "HAs-0gM4uC8H"
   },
   "source": [
    "**Question 4** Discuss (on a high level) what contributed the most to improving performance: changing the regularization parameter; adding more layers; having deeper networks with many layers but few neurons per layer? designing networks with few layers but many neurons per layer? Discuss any patterns that you may have encountered. Also, discuss whether there is a point where constructing and training more “sophisticated”/complex networks—i.e., larger networks—no longer improves performance (or worsens performance)."
   ]
  },
  {
   "cell_type": "markdown",
   "metadata": {
    "id": "7SFrr4m4uUWl"
   },
   "source": [
    "I used number of k=10000 iterations as stopping criterion.\n",
    "\n",
    "Simpler Architectures like [9, 8, 2] and [9, 16, 2] consistently perform well, achieving high accuracy and F1 scores across different settings. This suggests that for the given dataset, simpler architectures are sufficient to capture the complexity of the data without overfitting.\n",
    "\n",
    "Moderately Complex Architectures like [9, 16, 16, 16, 2] show a small improvement in performance at higher learning rates 0.10, indicating that with appropriate training, slightly deeper architectures might leverage additional representational power to enhance performance slightly.\n",
    "\n",
    "Highly Complex Architectures [9, 8, 8, 8, 2] and [9, 32, 32, 32, 32, 2]witness a significant decline in performance, especially with increased depth and number of neurons. This big drop indicates potential training difficulties, such as vanishing gradients, or excessive complexity leading to inefficiencies or overfitting.\n",
    "\n",
    "Regularization: Increasing the regularization strength to 0.05 generally results in a decrease in performance, particularly for more complex networks. This may suggest that the models are either being overly penalized, hindering their ability to fit the data well, or that the data's complexity does not require strong regularization to prevent overfitting.\n",
    "\n",
    "A higher learning rate 0.10 tends to improve performance in moderately complex networks, possibly indicating that these networks benefit from faster convergence. However, the adjustment of learning rates does not significantly alter performance outcomes in overly complex or overly simple networks, suggesting that architectural decisions are more critical.\n",
    "\n",
    "Moderately complex architectures like [9, 16, 16, 16, 2] may offer an optimal balance providing sufficient complexity to learn detailed patterns in the data without the training challenges associated with deeper networks. Very deep networks with many layers [9, 8, 8, 8, 2] and larger underperform compared to simpler architectures. Adding more layers doesn't necessarily translate to better performance and can actually impact results negatively due to increased computational complexity and training difficulty.\n",
    "\n",
    "There is a clear point where adding more complexity (either through more layers or more neurons per layer) does not yield benefits and begins to negatively impact performance. This is shown with the drop in performance metrics for the most complex architectures tested. It suggests that beyond a certain level of complexity, networks become more challenging to train effectively and more prone to overfitting or failing to converge. The point of diminishing returns appears between the [9, 16, 16, 16, 2] and the more complex [9, 8, 8, 8, 2] or [9, 32, 32, 32, 32, 2] structures. These architectures do not improve and actually degrade performance."
   ]
  },
  {
   "cell_type": "markdown",
   "metadata": {
    "id": "eK9O5py_udSv"
   },
   "source": [
    "**Question 5** Based on the analyses above, discuss which neural network architecture you would select if you had to deploy such a classifier in real life. Explain your reasoning"
   ]
  },
  {
   "cell_type": "markdown",
   "metadata": {
    "id": "DE0Drd1Fuf2u"
   },
   "source": [
    "Based on the performance data and the analysis of various neural network architectures tested, we're going to discuss what model we would select for real-life deployment.\n",
    "\n",
    "I would choose [9, 16, 16, 16, 2] since this structure provides a moderate level of complexity that appears to handle the dataset well. It offers multiple layers which enable it to capture more complex patterns and relationships in the data without being as prone to the training difficulties associated with deeper and more complex networks.\n",
    "It not only performs well in terms of training accuracy and F1 score but also shows good test performance, indicating effective generalization from the training data to unseen data. The balance it has between depth and width allows it to learn nuanced features without fitting noise or irrelevant details. The performance data suggest that this model does not overfit as significantly as more complex models, likely due to an effective balance of depth and regularization. It maintains robustness across different learning rates, which is a good indicator of its stability under various training conditions.\n",
    "\n",
    "Should the amount of data or the number of features increase over time, this architecture should be capable of scaling up relatively easily. The moderate complexity of this model also eases maintainability since it is less likely to require frequent tuning compared to very complex models. It is not time consuming or requires excessive computational power which is also an important factor in real-world applications where both training time and computational costs need to be optimized to ensure practicality and efficiency. It may require slightly more resources compared to simpler architectures due to its deeper structure, but the increase is justified by significant improvements in performance metrics.\n",
    "A lambda value of 0.01 and a learning rate of 0.05 or 0.10 seem to be effective based on the performance metrics.\n",
    "\n",
    "\n"
   ]
  },
  {
   "cell_type": "code",
   "execution_count": 13,
   "metadata": {
    "colab": {
     "base_uri": "https://localhost:8080/",
     "height": 564
    },
    "id": "j8uzh9yet4_1",
    "outputId": "44ca7ee9-234b-45c3-de7e-43530a13b437"
   },
   "outputs": [
    {
     "data": {
      "image/png": "[encoded data removed]",
      "text/plain": [
       "<Figure size 1000x600 with 1 Axes>"
      ]
     },
     "metadata": {},
     "output_type": "display_data"
    }
   ],
   "source": [
    "def learning_curve(X_train, y_train, X_test, y_test, nn, increments=5):\n",
    "    costs = []\n",
    "    for i in range(1, len(X_train), increments):\n",
    "        nn.train(X_train[:i], y_train[:i], iterations=1)\n",
    "        activations, _ = nn.forward(X_test)\n",
    "        cost = nn.cost(y_test, activations[-1])\n",
    "        costs.append(cost)\n",
    "    return costs\n",
    "\n",
    "np.random.seed(0)\n",
    "nn = NN([9, 16, 16, 16, 2], eta=0.1, reg_lambda=0.01, use_softmax=True)\n",
    "costs = learning_curve(X_train, y_train, X_test, y_test, nn)\n",
    "plt.figure(figsize=(10, 6))\n",
    "plt.plot(range(1, len(X_train), 5), costs, marker='o', linestyle='-', color='b')\n",
    "plt.title('Learning Curve for Neural Network [9, 16, 16, 16, 2] and α is set to 0.1')\n",
    "plt.xlabel('Number of Training Instances Used')\n",
    "plt.ylabel('Cost J on Test Set')\n",
    "plt.grid(True)\n",
    "plt.show()"
   ]
  },
  {
   "cell_type": "markdown",
   "metadata": {
    "id": "zYXmb0S4v4mu"
   },
   "source": [
    "α is set to 0.1"
   ]
  },
  {
   "cell_type": "code",
   "execution_count": null,
   "metadata": {
    "id": "T1888hYVv5OY"
   },
   "outputs": [],
   "source": []
  }
 ],
 "metadata": {
  "colab": {
   "provenance": []
  },
  "kernelspec": {
   "display_name": "Python 3 (ipykernel)",
   "language": "python",
   "name": "python3"
  },
  "language_info": {
   "codemirror_mode": {
    "name": "ipython",
    "version": 3
   },
   "file_extension": ".py",
   "mimetype": "text/x-python",
   "name": "python",
   "nbconvert_exporter": "python",
   "pygments_lexer": "ipython3",
   "version": "3.7.16"
  }
 },
 "nbformat": 4,
 "nbformat_minor": 1
}
